{
 "cells": [
  {
   "cell_type": "markdown",
   "id": "7d19f32b",
   "metadata": {},
   "source": [
    "# Costruction of a broad dataset on pumps and dumps\n",
    "## Filtering using sample parameters"
   ]
  },
  {
   "cell_type": "code",
   "execution_count": 5,
   "id": "b96dc1c5",
   "metadata": {},
   "outputs": [],
   "source": [
    "import numpy as np\n",
    "import pandas as pd\n",
    "from tqdm import tqdm\n",
    "import json\n",
    "import feather\n",
    "import os\n",
    "import glob\n",
    "import time\n",
    "import datetime\n",
    "from datetime import datetime\n",
    "import matplotlib.pyplot as plt"
   ]
  },
  {
   "cell_type": "code",
   "execution_count": 6,
   "id": "cd1c23c2",
   "metadata": {},
   "outputs": [
    {
     "data": {
      "text/plain": [
       "8248"
      ]
     },
     "execution_count": 6,
     "metadata": {},
     "output_type": "execute_result"
    }
   ],
   "source": [
    "# import the generated list of all tickers for which we have the data:\n",
    "with open(\"tickers_list_total.txt\", \"r\") as fp:\n",
    "    tickers_list_total = json.load(fp)\n",
    "all_tickers = tickers_list_total[0]\n",
    "len(all_tickers)"
   ]
  },
  {
   "cell_type": "markdown",
   "id": "3ad64e50",
   "metadata": {},
   "source": [
    "### Convert slow .csv aggregated files by timeframes to .feather format"
   ]
  },
  {
   "cell_type": "code",
   "execution_count": null,
   "id": "6d1e5612",
   "metadata": {},
   "outputs": [],
   "source": [
    "def create_1m_feather(all_tickers):\n",
    "    parent_dir_min = 'C:/Users/Kuanysh/Downloads/pump_and_dump/agg_tickers_1m'\n",
    "    for i in tqdm(range(len(all_tickers))):\n",
    "        ticker_name = all_tickers[i]\n",
    "        file_min = os.path.join(parent_dir_min, ticker_name + '.csv')\n",
    "        df_min = pd.read_csv(file_min).sort_values(by='time', ascending=True)\n",
    "        \n",
    "        df_min['times'] = pd.to_datetime(df_min['time'])\n",
    "        df_min['date'] = pd.to_datetime(df_min['times'].dt.date)\n",
    "        df_min['time'] = df_min['times'].dt.time\n",
    "        mask = df_min[['date', 'time', 'open', 'high', 'low', 'close', 'volume']]\n",
    "        mask.set_index('date', inplace=True)\n",
    "        \n",
    "        parent_dir_train = 'C:/Users/Kuanysh/Downloads/pump_and_dump/agg_tickers_1m_feather'\n",
    "        mask.reset_index().to_feather(os.path.join(parent_dir_train, ticker_name + '.feather'))"
   ]
  },
  {
   "cell_type": "code",
   "execution_count": null,
   "id": "db8b6007",
   "metadata": {},
   "outputs": [],
   "source": [
    "create_1m_feather(train_list)"
   ]
  },
  {
   "cell_type": "code",
   "execution_count": null,
   "id": "768d67e2",
   "metadata": {},
   "outputs": [],
   "source": [
    "def create_15m_feather(all_tickers):\n",
    "    parent_dir_min = 'C:/Users/Kuanysh/Downloads/pump_and_dump/agg_tickers_15m'\n",
    "    for i in tqdm(range(len(all_tickers))):\n",
    "        ticker_name = all_tickers[i]\n",
    "        file_min = os.path.join(parent_dir_min, ticker_name + '.csv')\n",
    "        df_min = pd.read_csv(file_min).sort_values(by='time', ascending=True)\n",
    "        \n",
    "        df_min['times'] = pd.to_datetime(df_min['time'])\n",
    "        df_min['date'] = pd.to_datetime(df_min['times'].dt.date)\n",
    "        df_min['time'] = df_min['times'].dt.time\n",
    "        mask = df_min[['date', 'time', 'open', 'high', 'low', 'close', 'volume']]\n",
    "        mask.set_index('date', inplace=True)\n",
    "        \n",
    "        parent_dir_train = 'C:/Users/Kuanysh/Downloads/pump_and_dump/agg_tickers_15m_feather'\n",
    "        mask.reset_index().to_feather(os.path.join(parent_dir_train, ticker_name + '.feather'))"
   ]
  },
  {
   "cell_type": "code",
   "execution_count": 352,
   "id": "a3faf1cc",
   "metadata": {},
   "outputs": [
    {
     "name": "stderr",
     "output_type": "stream",
     "text": [
      "100%|██████████████████████████████████████████████████████████████████| 8248/8248 [03:36<00:00, 38.11it/s]\n"
     ]
    }
   ],
   "source": [
    "create_15m_feather(all_tickers)"
   ]
  },
  {
   "cell_type": "code",
   "execution_count": null,
   "id": "574b2b6e",
   "metadata": {},
   "outputs": [],
   "source": [
    "### daily_adj_feather\n",
    "def create_daily_adj_feather(all_tickers):\n",
    "    for i in tqdm(range(len(all_tickers))):\n",
    "        ticker_name = all_tickers[i]\n",
    "        parent_dir_min = os.path.join('C:/Users/Kuanysh/Downloads/pump_and_dump/all_tickers_daily_adj', ticker_name)\n",
    "        file_min = os.path.join(parent_dir_min, ticker_name + '_daily_adj' + '.csv')\n",
    "        df_min = pd.read_csv(file_min, header=0, names = ['date','open','high','low','close','adj close','volume','dividend amount','split coefficient'])\n",
    "        \n",
    "        df_min['date'] = pd.to_datetime(df_min['date'])\n",
    "        df_min.sort_values(by='date', ascending=True, inplace=True)\n",
    "        df_min.set_index('date', inplace=True)\n",
    "        df_min = df_min[['open', 'high', 'low', 'close', 'volume']]\n",
    "        \n",
    "        parent_dir_train = 'C:/Users/Kuanysh/Downloads/pump_and_dump/all_tickers_daily_adj_feather'\n",
    "        df_min.reset_index().to_feather(os.path.join(parent_dir_train, ticker_name + '.feather'))"
   ]
  },
  {
   "cell_type": "code",
   "execution_count": 4,
   "id": "e79abda3",
   "metadata": {},
   "outputs": [
    {
     "name": "stderr",
     "output_type": "stream",
     "text": [
      "100%|██████████████████████████████████████████████████████████████████████████████| 8248/8248 [02:27<00:00, 56.01it/s]\n"
     ]
    }
   ],
   "source": [
    "create_daily_adj_feather(all_tickers)"
   ]
  },
  {
   "cell_type": "markdown",
   "id": "854df3e1",
   "metadata": {},
   "source": [
    "### Let's consider the distribution of candle prints, which can tell us what is the minimal number of prints to take"
   ]
  },
  {
   "cell_type": "code",
   "execution_count": 7,
   "id": "18081676",
   "metadata": {},
   "outputs": [
    {
     "name": "stderr",
     "output_type": "stream",
     "text": [
      "100%|██████████████████████████████████████████████████████████████████████████████| 8248/8248 [04:20<00:00, 31.69it/s]\n"
     ]
    }
   ],
   "source": [
    "all_liquid_obs = []\n",
    "for i in tqdm(range(len(all_tickers))):\n",
    "    ticker_name = all_tickers[i]  \n",
    "    parent_dir_one_min = 'C:/Users/Kuanysh/Downloads/pump_and_dump/agg_tickers_1m_feather'\n",
    "    file_one_min = os.path.join(parent_dir_one_min, ticker_name + '.feather') \n",
    "    df_one_min = pd.read_feather(file_one_min) \n",
    "    counts = df_one_min.groupby(['date']).count().iloc[:,0].reset_index()\n",
    "    counts = counts[(counts['date'] >= '2019-09-03') & (counts['date'] <= '2021-08-06')]\n",
    "    counts.date = counts.date.astype(str)\n",
    "    all_counts = counts.values.tolist()\n",
    "    all_liquid_obs.append([ticker_name, all_counts])"
   ]
  },
  {
   "cell_type": "code",
   "execution_count": null,
   "id": "b68f7d44",
   "metadata": {},
   "outputs": [],
   "source": [
    "#with open('all_liquid_obs.txt', 'w') as fp:\n",
    "#    json.dump(all_liquid_obs, fp)"
   ]
  },
  {
   "cell_type": "code",
   "execution_count": 3,
   "id": "567ee813",
   "metadata": {},
   "outputs": [],
   "source": [
    "with open(\"all_liquid_obs.txt\", \"r\") as fp:\n",
    "    all_liquid_obs = json.load(fp)"
   ]
  },
  {
   "cell_type": "code",
   "execution_count": 8,
   "id": "458ef8ee",
   "metadata": {},
   "outputs": [],
   "source": [
    "# find the dates in which there were any trading sessions\n",
    "all_liquid_sessions = []\n",
    "for ticker in all_liquid_obs:\n",
    "    liquid_day = []\n",
    "    for day in ticker[1]:\n",
    "        if day[1] >= 0: \n",
    "            liquid_day.append(day[0])\n",
    "    all_liquid_sessions.append([ticker[0], liquid_day])"
   ]
  },
  {
   "cell_type": "code",
   "execution_count": 11,
   "id": "677eedf2",
   "metadata": {},
   "outputs": [],
   "source": [
    "# consider the distribution of observations by the number of prints:\n",
    "all_sessions = []\n",
    "for ticker in all_liquid_obs:\n",
    "    for day in ticker[1]:\n",
    "        all_sessions.append(day[1])"
   ]
  },
  {
   "cell_type": "code",
   "execution_count": 31,
   "id": "17114264",
   "metadata": {
    "scrolled": false
   },
   "outputs": [
    {
     "data": {
      "image/png": "[encoded data removed]",
      "text/plain": [
       "<Figure size 576x432 with 1 Axes>"
      ]
     },
     "metadata": {
      "needs_background": "light"
     },
     "output_type": "display_data"
    }
   ],
   "source": [
    "plt.figure(figsize=(8,6))\n",
    "n, bins, patches = plt.hist(all_sessions, bins=1000, log=True, color ='royalblue')\n",
    "plt.xlabel('Number of prints')\n",
    "plt.ylabel('Log-frequency')\n",
    "plt.show()"
   ]
  },
  {
   "cell_type": "code",
   "execution_count": 32,
   "id": "e4aefd47",
   "metadata": {},
   "outputs": [
    {
     "data": {
      "text/plain": [
       "391.71999999999997"
      ]
     },
     "execution_count": 32,
     "metadata": {},
     "output_type": "execute_result"
    }
   ],
   "source": [
    "# that spike is:\n",
    "opt_prints = bins[np.where(n == n[200:].max())][0]\n",
    "opt_prints"
   ]
  },
  {
   "cell_type": "markdown",
   "id": "2831a2f1",
   "metadata": {},
   "source": [
    "### Consider the distribution of returns in order to understand what minimum returns should be applied to extract the pumps or dumps"
   ]
  },
  {
   "cell_type": "code",
   "execution_count": 58,
   "id": "d42d64f8",
   "metadata": {},
   "outputs": [],
   "source": [
    "def get_all_pnd(all_liquid_sessions):\n",
    "    all_pnd = []\n",
    "    for i in tqdm(range(len(all_liquid_sessions))):\n",
    "        ticker_name = all_liquid_sessions[i][0]\n",
    "        days = all_liquid_sessions[i][1]\n",
    "        parent_dir_min = 'C:/Users/Kuanysh/Downloads/pump_and_dump/agg_tickers_1m_feather'\n",
    "        file_min = os.path.join(parent_dir_min, ticker_name + '.feather')\n",
    "        df_min = pd.read_feather(file_min)\n",
    "        \n",
    "        per_ticker_list = []\n",
    "        for day in days:\n",
    "            mask = df_min[df_min['date'] == day]\n",
    "            min_ser = mask.to_numpy()\n",
    "            if min_ser.size > 0:\n",
    "                # find max and min for all ohlc data\n",
    "                max_price = np.max(min_ser[:,2:6])\n",
    "                min_price = np.min(min_ser[:,2:6])\n",
    "                \n",
    "                # daily price range and day_ret yield, this is how pumps and dumps may differ from simple movements\n",
    "\n",
    "                day_range = max_price - min_price\n",
    "                day_ret = max_price/min_price - 1 \n",
    "                \n",
    "                # find max_coverage, coverage of the daily price movement,\n",
    "                # the closer to 100%, the more likely it is one or few long candles, i.e. a sharp pump\n",
    "                if day_range > 0:\n",
    "                    all_coverage = []\n",
    "                    hl = min_ser[:,3:5].astype(np.float32)\n",
    "                    for i in range(hl.shape[0]):\n",
    "                        perf_min = hl[i][0] - hl[i][1]\n",
    "                        coverage = perf_min/day_range\n",
    "                        all_coverage.append(coverage)\n",
    "                    max_coverage = max(all_coverage)\n",
    "                    per_ticker_list.append([day, day_ret, max_coverage])\n",
    "        all_pnd.append([ticker_name, per_ticker_list])\n",
    "    return all_pnd"
   ]
  },
  {
   "cell_type": "code",
   "execution_count": 37,
   "id": "932751e2",
   "metadata": {},
   "outputs": [
    {
     "name": "stderr",
     "output_type": "stream",
     "text": [
      "100%|██████████████████████████████████████████████████████████████████████████████| 8248/8248 [07:44<00:00, 17.76it/s]\n"
     ]
    }
   ],
   "source": [
    "all_pnd = get_all_pnd(all_liquid_sessions)"
   ]
  },
  {
   "cell_type": "code",
   "execution_count": null,
   "id": "67e77a17",
   "metadata": {},
   "outputs": [],
   "source": [
    "#with open('all_pnd3.txt', 'w') as fp:\n",
    "#    json.dump(all_pnd, fp)"
   ]
  },
  {
   "cell_type": "code",
   "execution_count": 33,
   "id": "6aa14b41",
   "metadata": {},
   "outputs": [],
   "source": [
    "with open(\"all_pnd3.txt\", \"r\") as fp:\n",
    "    all_pnd = json.load(fp)"
   ]
  },
  {
   "cell_type": "code",
   "execution_count": 34,
   "id": "6efcd8c8",
   "metadata": {},
   "outputs": [],
   "source": [
    "# convert to the format: ticker, day, daily growth, price range coverage\n",
    "all_pnd_sessions = []\n",
    "for ticker in all_pnd:\n",
    "    for day in ticker[1]:\n",
    "        all_pnd_sessions.append([ticker[0], day[0], day[1], day[2]])"
   ]
  },
  {
   "cell_type": "code",
   "execution_count": 37,
   "id": "f226ea8d",
   "metadata": {},
   "outputs": [
    {
     "data": {
      "image/png": "[encoded data removed]",
      "text/plain": [
       "<Figure size 576x432 with 1 Axes>"
      ]
     },
     "metadata": {
      "needs_background": "light"
     },
     "output_type": "display_data"
    }
   ],
   "source": [
    "# let's take a look for the return distribution:\n",
    "all_pnd_sessions_df = pd.DataFrame(all_pnd_sessions, columns =['ticker','date','High-Low range', '1m candle coverage'])\n",
    "plt.figure(figsize=(8,6))\n",
    "hist, bins = np.histogram(all_pnd_sessions_df['High-Low range'], bins=1000)\n",
    "logbins = np.logspace(np.log10(bins[0]),np.log10(bins[-1]),len(bins))\n",
    "plt.hist(all_pnd_sessions_df['High-Low range'], bins=logbins, log=True, color ='mediumvioletred')\n",
    "plt.xscale('log')\n",
    "plt.xlabel('Return')\n",
    "plt.ylabel('Log-frequency')\n",
    "plt.show()"
   ]
  },
  {
   "cell_type": "code",
   "execution_count": 60,
   "id": "847df86c",
   "metadata": {},
   "outputs": [
    {
     "data": {
      "text/plain": [
       "array([0.04135757])"
      ]
     },
     "execution_count": 60,
     "metadata": {},
     "output_type": "execute_result"
    }
   ],
   "source": [
    "hist, bins = np.histogram(all_pnd_sessions_df['High-Low range'], bins=1000)\n",
    "logbins = np.logspace(np.log10(bins[0]),np.log10(bins[-1]),len(bins))\n",
    "hist, new_bins = np.histogram(all_pnd_sessions_df['High-Low range'], bins=logbins)\n",
    "new_bins[np.where(hist == hist.max())[0]]"
   ]
  },
  {
   "cell_type": "code",
   "execution_count": 38,
   "id": "4c0fb20e",
   "metadata": {},
   "outputs": [
    {
     "data": {
      "image/png": "[encoded data removed]",
      "text/plain": [
       "<Figure size 576x432 with 1 Axes>"
      ]
     },
     "metadata": {
      "needs_background": "light"
     },
     "output_type": "display_data"
    }
   ],
   "source": [
    "# let's take a look for the daily price range coverage:\n",
    "plt.figure(figsize=(8,6))\n",
    "plt.hist(all_pnd_sessions_df['1m candle coverage'], bins=1000, log=True, color ='mediumpurple')\n",
    "#plt.xscale('log')\n",
    "plt.xlabel('Daily price range coverage')\n",
    "plt.ylabel('Log-frequency')\n",
    "plt.show()"
   ]
  },
  {
   "cell_type": "markdown",
   "id": "f5d787e1",
   "metadata": {},
   "source": [
    "### Let's also consider the overall positive or negative movement of intraday prices, because it is assumed that most of the pump and dump movements occur mainly above the daily open price."
   ]
  },
  {
   "cell_type": "code",
   "execution_count": 52,
   "id": "569accbd",
   "metadata": {},
   "outputs": [],
   "source": [
    "def get_all_spikes(all_pnd):\n",
    "    for i in tqdm(range(len(all_pnd))):\n",
    "        ticker_name = all_pnd[i][0]\n",
    "        days = [x[0] for x in all_pnd[i][1]]\n",
    "        parent_dir_min = 'C:/Users/Kuanysh/Downloads/pump_and_dump/agg_tickers_1m_feather'\n",
    "        file_min = os.path.join(parent_dir_min, ticker_name + '.feather')\n",
    "        df_min = pd.read_feather(file_min)\n",
    "        df_min = df_min.sort_values(by='time', ascending=True)\n",
    "       \n",
    "        for j in range(len(days)):\n",
    "            mask = df_min[df_min['date'] == days[j]]\n",
    "            min_ser = mask.to_numpy()\n",
    "            first_open = min_ser[0][2]\n",
    "            close_sums = 0\n",
    "            for k in range(len(min_ser)):\n",
    "                close = min_ser[k][5]\n",
    "                if close > first_open:\n",
    "                    close_sums+=1\n",
    "            pos_neg_coverage = close_sums/len(min_ser)\n",
    "            all_pnd[i][1][j].extend([pos_neg_coverage, len(min_ser)])  \n",
    "    return all_pnd"
   ]
  },
  {
   "cell_type": "code",
   "execution_count": 53,
   "id": "8818295f",
   "metadata": {},
   "outputs": [
    {
     "name": "stderr",
     "output_type": "stream",
     "text": [
      "100%|██████████████████████████████████████████████████████████████████████████████| 8248/8248 [55:39<00:00,  2.47it/s]\n"
     ]
    }
   ],
   "source": [
    "all_spikes = get_all_spikes(all_pnd)"
   ]
  },
  {
   "cell_type": "code",
   "execution_count": 54,
   "id": "2c7f6a97",
   "metadata": {},
   "outputs": [],
   "source": [
    "#with open('all_spikes_1m.txt', 'w') as fp:\n",
    "#    json.dump(all_spikes, fp)"
   ]
  },
  {
   "cell_type": "code",
   "execution_count": 50,
   "id": "d21ca579",
   "metadata": {},
   "outputs": [],
   "source": [
    "with open(\"all_spikes_1m.txt\", \"r\") as fp:\n",
    "    all_spikes = json.load(fp)"
   ]
  },
  {
   "cell_type": "code",
   "execution_count": 55,
   "id": "8b54fb0e",
   "metadata": {},
   "outputs": [],
   "source": [
    "# add more descriptive features: positive or negative coverage and the number of prints\n",
    "all_spikes_sessions = []\n",
    "for ticker in all_spikes:\n",
    "    for day in ticker[1]:\n",
    "        all_spikes_sessions.append([ticker[0], day[0], day[1], day[2], day[3], day[4]])"
   ]
  },
  {
   "cell_type": "markdown",
   "id": "e6438dd5",
   "metadata": {},
   "source": [
    "### Construct the broad dataset:"
   ]
  },
  {
   "cell_type": "code",
   "execution_count": 56,
   "id": "959fd689",
   "metadata": {},
   "outputs": [
    {
     "data": {
      "text/html": [
       "<div>\n",
       "<style scoped>\n",
       "    .dataframe tbody tr th:only-of-type {\n",
       "        vertical-align: middle;\n",
       "    }\n",
       "\n",
       "    .dataframe tbody tr th {\n",
       "        vertical-align: top;\n",
       "    }\n",
       "\n",
       "    .dataframe thead th {\n",
       "        text-align: right;\n",
       "    }\n",
       "</style>\n",
       "<table border=\"1\" class=\"dataframe\">\n",
       "  <thead>\n",
       "    <tr style=\"text-align: right;\">\n",
       "      <th></th>\n",
       "      <th>ticker</th>\n",
       "      <th>date</th>\n",
       "      <th>High-Low range</th>\n",
       "      <th>15m candle coverage</th>\n",
       "      <th>pos_neg_coverage</th>\n",
       "      <th>number of prints</th>\n",
       "    </tr>\n",
       "  </thead>\n",
       "  <tbody>\n",
       "    <tr>\n",
       "      <th>1031604</th>\n",
       "      <td>GCMG</td>\n",
       "      <td>2020-12-16</td>\n",
       "      <td>1.286990e+05</td>\n",
       "      <td>0.943279</td>\n",
       "      <td>0.013405</td>\n",
       "      <td>373</td>\n",
       "    </tr>\n",
       "    <tr>\n",
       "      <th>2687364</th>\n",
       "      <td>XBIOW</td>\n",
       "      <td>2019-11-08</td>\n",
       "      <td>8.138000e+03</td>\n",
       "      <td>0.458098</td>\n",
       "      <td>1.000000</td>\n",
       "      <td>5</td>\n",
       "    </tr>\n",
       "    <tr>\n",
       "      <th>2415051</th>\n",
       "      <td>THWWW</td>\n",
       "      <td>2020-03-25</td>\n",
       "      <td>3.999000e+03</td>\n",
       "      <td>0.742686</td>\n",
       "      <td>0.000000</td>\n",
       "      <td>3</td>\n",
       "    </tr>\n",
       "    <tr>\n",
       "      <th>2733675</th>\n",
       "      <td>ZVZZT</td>\n",
       "      <td>2019-11-11</td>\n",
       "      <td>2.308000e+03</td>\n",
       "      <td>0.562392</td>\n",
       "      <td>0.034483</td>\n",
       "      <td>261</td>\n",
       "    </tr>\n",
       "    <tr>\n",
       "      <th>2733672</th>\n",
       "      <td>ZVZZT</td>\n",
       "      <td>2019-11-06</td>\n",
       "      <td>1.300000e+03</td>\n",
       "      <td>0.614615</td>\n",
       "      <td>0.005208</td>\n",
       "      <td>192</td>\n",
       "    </tr>\n",
       "    <tr>\n",
       "      <th>...</th>\n",
       "      <td>...</td>\n",
       "      <td>...</td>\n",
       "      <td>...</td>\n",
       "      <td>...</td>\n",
       "      <td>...</td>\n",
       "      <td>...</td>\n",
       "    </tr>\n",
       "    <tr>\n",
       "      <th>1716216</th>\n",
       "      <td>NMK-P-B</td>\n",
       "      <td>2021-01-29</td>\n",
       "      <td>1.000000e-06</td>\n",
       "      <td>0.991821</td>\n",
       "      <td>1.000000</td>\n",
       "      <td>1</td>\n",
       "    </tr>\n",
       "    <tr>\n",
       "      <th>1716249</th>\n",
       "      <td>NMK-P-B</td>\n",
       "      <td>2021-08-04</td>\n",
       "      <td>9.975062e-07</td>\n",
       "      <td>0.991821</td>\n",
       "      <td>0.000000</td>\n",
       "      <td>1</td>\n",
       "    </tr>\n",
       "    <tr>\n",
       "      <th>1716372</th>\n",
       "      <td>NMK-P-C</td>\n",
       "      <td>2021-07-14</td>\n",
       "      <td>9.523819e-07</td>\n",
       "      <td>0.991821</td>\n",
       "      <td>0.000000</td>\n",
       "      <td>1</td>\n",
       "    </tr>\n",
       "    <tr>\n",
       "      <th>1323604</th>\n",
       "      <td>ITIC</td>\n",
       "      <td>2021-03-30</td>\n",
       "      <td>5.989821e-07</td>\n",
       "      <td>0.915527</td>\n",
       "      <td>1.000000</td>\n",
       "      <td>1</td>\n",
       "    </tr>\n",
       "    <tr>\n",
       "      <th>344843</th>\n",
       "      <td>BIO-B</td>\n",
       "      <td>2020-04-07</td>\n",
       "      <td>5.473454e-07</td>\n",
       "      <td>1.068115</td>\n",
       "      <td>0.000000</td>\n",
       "      <td>1</td>\n",
       "    </tr>\n",
       "  </tbody>\n",
       "</table>\n",
       "<p>2736044 rows × 6 columns</p>\n",
       "</div>"
      ],
      "text/plain": [
       "          ticker        date  High-Low range  15m candle coverage  \\\n",
       "1031604     GCMG  2020-12-16    1.286990e+05             0.943279   \n",
       "2687364    XBIOW  2019-11-08    8.138000e+03             0.458098   \n",
       "2415051    THWWW  2020-03-25    3.999000e+03             0.742686   \n",
       "2733675    ZVZZT  2019-11-11    2.308000e+03             0.562392   \n",
       "2733672    ZVZZT  2019-11-06    1.300000e+03             0.614615   \n",
       "...          ...         ...             ...                  ...   \n",
       "1716216  NMK-P-B  2021-01-29    1.000000e-06             0.991821   \n",
       "1716249  NMK-P-B  2021-08-04    9.975062e-07             0.991821   \n",
       "1716372  NMK-P-C  2021-07-14    9.523819e-07             0.991821   \n",
       "1323604     ITIC  2021-03-30    5.989821e-07             0.915527   \n",
       "344843     BIO-B  2020-04-07    5.473454e-07             1.068115   \n",
       "\n",
       "         pos_neg_coverage  number of prints  \n",
       "1031604          0.013405               373  \n",
       "2687364          1.000000                 5  \n",
       "2415051          0.000000                 3  \n",
       "2733675          0.034483               261  \n",
       "2733672          0.005208               192  \n",
       "...                   ...               ...  \n",
       "1716216          1.000000                 1  \n",
       "1716249          0.000000                 1  \n",
       "1716372          0.000000                 1  \n",
       "1323604          1.000000                 1  \n",
       "344843           0.000000                 1  \n",
       "\n",
       "[2736044 rows x 6 columns]"
      ]
     },
     "execution_count": 56,
     "metadata": {},
     "output_type": "execute_result"
    }
   ],
   "source": [
    "df_pn = pd.DataFrame(all_spikes_sessions, columns =['ticker','date','High-Low range', '15m candle coverage', 'pos_neg_coverage', 'number of prints'])\n",
    "df_pn = df_pn.sort_values(by=['High-Low range', '15m candle coverage','pos_neg_coverage','number of prints'], ascending=[False, False, False, False])\n",
    "df_pn"
   ]
  },
  {
   "cell_type": "code",
   "execution_count": 68,
   "id": "bf5302cf",
   "metadata": {},
   "outputs": [
    {
     "data": {
      "text/html": [
       "<div>\n",
       "<style scoped>\n",
       "    .dataframe tbody tr th:only-of-type {\n",
       "        vertical-align: middle;\n",
       "    }\n",
       "\n",
       "    .dataframe tbody tr th {\n",
       "        vertical-align: top;\n",
       "    }\n",
       "\n",
       "    .dataframe thead th {\n",
       "        text-align: right;\n",
       "    }\n",
       "</style>\n",
       "<table border=\"1\" class=\"dataframe\">\n",
       "  <thead>\n",
       "    <tr style=\"text-align: right;\">\n",
       "      <th></th>\n",
       "      <th>ticker</th>\n",
       "      <th>date</th>\n",
       "      <th>High-Low range</th>\n",
       "      <th>15m candle coverage</th>\n",
       "      <th>pos_neg_coverage</th>\n",
       "      <th>number of prints</th>\n",
       "    </tr>\n",
       "  </thead>\n",
       "  <tbody>\n",
       "    <tr>\n",
       "      <th>347137</th>\n",
       "      <td>GCMG</td>\n",
       "      <td>2020-12-16</td>\n",
       "      <td>128699.000000</td>\n",
       "      <td>0.943279</td>\n",
       "      <td>0.013405</td>\n",
       "      <td>373</td>\n",
       "    </tr>\n",
       "    <tr>\n",
       "      <th>753250</th>\n",
       "      <td>SPI</td>\n",
       "      <td>2020-09-23</td>\n",
       "      <td>41.816514</td>\n",
       "      <td>0.452172</td>\n",
       "      <td>1.000000</td>\n",
       "      <td>655</td>\n",
       "    </tr>\n",
       "    <tr>\n",
       "      <th>359195</th>\n",
       "      <td>GLSI</td>\n",
       "      <td>2020-12-09</td>\n",
       "      <td>28.272222</td>\n",
       "      <td>0.233707</td>\n",
       "      <td>1.000000</td>\n",
       "      <td>413</td>\n",
       "    </tr>\n",
       "    <tr>\n",
       "      <th>62194</th>\n",
       "      <td>APM</td>\n",
       "      <td>2020-09-29</td>\n",
       "      <td>21.416667</td>\n",
       "      <td>0.896357</td>\n",
       "      <td>1.000000</td>\n",
       "      <td>771</td>\n",
       "    </tr>\n",
       "    <tr>\n",
       "      <th>27155</th>\n",
       "      <td>AGBAR</td>\n",
       "      <td>2021-03-30</td>\n",
       "      <td>21.193548</td>\n",
       "      <td>0.995434</td>\n",
       "      <td>0.996983</td>\n",
       "      <td>663</td>\n",
       "    </tr>\n",
       "    <tr>\n",
       "      <th>...</th>\n",
       "      <td>...</td>\n",
       "      <td>...</td>\n",
       "      <td>...</td>\n",
       "      <td>...</td>\n",
       "      <td>...</td>\n",
       "      <td>...</td>\n",
       "    </tr>\n",
       "    <tr>\n",
       "      <th>897501</th>\n",
       "      <td>WWR</td>\n",
       "      <td>2021-06-07</td>\n",
       "      <td>0.100000</td>\n",
       "      <td>0.232558</td>\n",
       "      <td>0.987981</td>\n",
       "      <td>416</td>\n",
       "    </tr>\n",
       "    <tr>\n",
       "      <th>688849</th>\n",
       "      <td>RIG</td>\n",
       "      <td>2021-06-21</td>\n",
       "      <td>0.100000</td>\n",
       "      <td>0.230770</td>\n",
       "      <td>0.985714</td>\n",
       "      <td>560</td>\n",
       "    </tr>\n",
       "    <tr>\n",
       "      <th>21249</th>\n",
       "      <td>AEG</td>\n",
       "      <td>2020-03-11</td>\n",
       "      <td>0.100000</td>\n",
       "      <td>0.200000</td>\n",
       "      <td>0.019851</td>\n",
       "      <td>403</td>\n",
       "    </tr>\n",
       "    <tr>\n",
       "      <th>691915</th>\n",
       "      <td>RLGY</td>\n",
       "      <td>2021-01-21</td>\n",
       "      <td>0.100000</td>\n",
       "      <td>0.179267</td>\n",
       "      <td>0.996960</td>\n",
       "      <td>329</td>\n",
       "    </tr>\n",
       "    <tr>\n",
       "      <th>394660</th>\n",
       "      <td>HLIT</td>\n",
       "      <td>2020-06-04</td>\n",
       "      <td>0.100000</td>\n",
       "      <td>0.140000</td>\n",
       "      <td>0.969325</td>\n",
       "      <td>326</td>\n",
       "    </tr>\n",
       "  </tbody>\n",
       "</table>\n",
       "<p>152699 rows × 6 columns</p>\n",
       "</div>"
      ],
      "text/plain": [
       "       ticker        date  High-Low range  15m candle coverage  \\\n",
       "347137   GCMG  2020-12-16   128699.000000             0.943279   \n",
       "753250    SPI  2020-09-23       41.816514             0.452172   \n",
       "359195   GLSI  2020-12-09       28.272222             0.233707   \n",
       "62194     APM  2020-09-29       21.416667             0.896357   \n",
       "27155   AGBAR  2021-03-30       21.193548             0.995434   \n",
       "...       ...         ...             ...                  ...   \n",
       "897501    WWR  2021-06-07        0.100000             0.232558   \n",
       "688849    RIG  2021-06-21        0.100000             0.230770   \n",
       "21249     AEG  2020-03-11        0.100000             0.200000   \n",
       "691915   RLGY  2021-01-21        0.100000             0.179267   \n",
       "394660   HLIT  2020-06-04        0.100000             0.140000   \n",
       "\n",
       "        pos_neg_coverage  number of prints  \n",
       "347137          0.013405               373  \n",
       "753250          1.000000               655  \n",
       "359195          1.000000               413  \n",
       "62194           1.000000               771  \n",
       "27155           0.996983               663  \n",
       "...                  ...               ...  \n",
       "897501          0.987981               416  \n",
       "688849          0.985714               560  \n",
       "21249           0.019851               403  \n",
       "691915          0.996960               329  \n",
       "394660          0.969325               326  \n",
       "\n",
       "[152699 rows x 6 columns]"
      ]
     },
     "execution_count": 68,
     "metadata": {},
     "output_type": "execute_result"
    }
   ],
   "source": [
    "# Let's filter them by profitability and by the number of prints:\n",
    "new_df_pn = df_pn[(df_pn['High-Low range']>0.1) & (df_pn['number of prints']>300)].sort_values(by=['High-Low range', '15m candle coverage'], ascending=[False, False])\n",
    "new_df_pn"
   ]
  },
  {
   "cell_type": "code",
   "execution_count": 69,
   "id": "1a4b12ca",
   "metadata": {},
   "outputs": [],
   "source": [
    "#new_df_pn.to_csv('train_data_10_pct2.csv')"
   ]
  },
  {
   "cell_type": "code",
   "execution_count": 72,
   "id": "a03a1213",
   "metadata": {},
   "outputs": [],
   "source": [
    "with open('train_list_10_pct2.txt', 'w') as fp:\n",
    "    json.dump(train_list, fp)"
   ]
  }
 ],
 "metadata": {
  "kernelspec": {
   "display_name": "Python 3",
   "language": "python",
   "name": "python3"
  },
  "language_info": {
   "codemirror_mode": {
    "name": "ipython",
    "version": 3
   },
   "file_extension": ".py",
   "mimetype": "text/x-python",
   "name": "python",
   "nbconvert_exporter": "python",
   "pygments_lexer": "ipython3",
   "version": "3.8.8"
  }
 },
 "nbformat": 4,
 "nbformat_minor": 5
}
